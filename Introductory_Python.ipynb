{
 "cells": [
  {
   "cell_type": "code",
   "execution_count": 1,
   "id": "22ae6fd1-376f-47a7-8d23-055e5503a4e5",
   "metadata": {},
   "outputs": [
    {
     "name": "stdout",
     "output_type": "stream",
     "text": [
      "Hello World\n"
     ]
    }
   ],
   "source": [
    "print(\"Hello World\")"
   ]
  },
  {
   "cell_type": "code",
   "execution_count": 3,
   "id": "7a5e9e90-afc2-47a5-98d6-8d66fda0095c",
   "metadata": {},
   "outputs": [
    {
     "data": {
      "text/plain": [
       "(True, False)"
      ]
     },
     "execution_count": 3,
     "metadata": {},
     "output_type": "execute_result"
    }
   ],
   "source": [
    "True, False"
   ]
  },
  {
   "cell_type": "code",
   "execution_count": 4,
   "id": "51bf1564-b187-41eb-97ee-0896956a7cc3",
   "metadata": {},
   "outputs": [
    {
     "data": {
      "text/plain": [
       "34"
      ]
     },
     "execution_count": 4,
     "metadata": {},
     "output_type": "execute_result"
    }
   ],
   "source": [
    "34"
   ]
  },
  {
   "cell_type": "code",
   "execution_count": 5,
   "id": "c517798b-63bc-4a07-b99e-62bf31e533fe",
   "metadata": {},
   "outputs": [
    {
     "data": {
      "text/plain": [
       "102"
      ]
     },
     "execution_count": 5,
     "metadata": {},
     "output_type": "execute_result"
    }
   ],
   "source": [
    "34 * 3"
   ]
  },
  {
   "cell_type": "code",
   "execution_count": 6,
   "id": "db71dc35-9847-46fe-b7c1-db16990ef807",
   "metadata": {},
   "outputs": [
    {
     "data": {
      "text/plain": [
       "32"
      ]
     },
     "execution_count": 6,
     "metadata": {},
     "output_type": "execute_result"
    }
   ],
   "source": [
    "34 - 2"
   ]
  },
  {
   "cell_type": "code",
   "execution_count": 7,
   "id": "db2f463e-2c4d-4a87-b3a2-0b8015be3271",
   "metadata": {},
   "outputs": [
    {
     "data": {
      "text/plain": [
       "36"
      ]
     },
     "execution_count": 7,
     "metadata": {},
     "output_type": "execute_result"
    }
   ],
   "source": [
    "34 + 2"
   ]
  },
  {
   "cell_type": "code",
   "execution_count": 8,
   "id": "43fbc6e5-21f2-4c15-b2df-216eb55ca5d8",
   "metadata": {},
   "outputs": [
    {
     "data": {
      "text/plain": [
       "1156"
      ]
     },
     "execution_count": 8,
     "metadata": {},
     "output_type": "execute_result"
    }
   ],
   "source": [
    "34 ** 2"
   ]
  },
  {
   "cell_type": "code",
   "execution_count": 9,
   "id": "c74b6baa-ebaa-4d04-a973-bf19616a4079",
   "metadata": {},
   "outputs": [
    {
     "data": {
      "text/plain": [
       "True"
      ]
     },
     "execution_count": 9,
     "metadata": {},
     "output_type": "execute_result"
    }
   ],
   "source": [
    "34 >= 32"
   ]
  },
  {
   "cell_type": "code",
   "execution_count": 10,
   "id": "b230bed3-ef15-4046-81e9-90fcb00fb106",
   "metadata": {},
   "outputs": [
    {
     "data": {
      "text/plain": [
       "True"
      ]
     },
     "execution_count": 10,
     "metadata": {},
     "output_type": "execute_result"
    }
   ],
   "source": [
    "34 <= 35"
   ]
  },
  {
   "cell_type": "code",
   "execution_count": 16,
   "id": "2ddd0ddf-250b-451a-ad56-e9229cba3016",
   "metadata": {},
   "outputs": [
    {
     "data": {
      "text/plain": [
       "3"
      ]
     },
     "execution_count": 16,
     "metadata": {},
     "output_type": "execute_result"
    }
   ],
   "source": [
    "3    "
   ]
  },
  {
   "cell_type": "code",
   "execution_count": 17,
   "id": "91a198df-ef4a-4bd3-bc33-4a6dde4394bb",
   "metadata": {},
   "outputs": [
    {
     "data": {
      "text/plain": [
       "3.5"
      ]
     },
     "execution_count": 17,
     "metadata": {},
     "output_type": "execute_result"
    }
   ],
   "source": [
    "3.5 "
   ]
  },
  {
   "cell_type": "code",
   "execution_count": 13,
   "id": "400adfc4-3988-4c2a-921e-ea0f84639e02",
   "metadata": {},
   "outputs": [
    {
     "data": {
      "text/plain": [
       "'try'"
      ]
     },
     "execution_count": 13,
     "metadata": {},
     "output_type": "execute_result"
    }
   ],
   "source": [
    "\"try\""
   ]
  },
  {
   "cell_type": "code",
   "execution_count": 14,
   "id": "de71699c-355e-43d2-be99-398a5491622c",
   "metadata": {},
   "outputs": [
    {
     "data": {
      "text/plain": [
       "'Hello'"
      ]
     },
     "execution_count": 14,
     "metadata": {},
     "output_type": "execute_result"
    }
   ],
   "source": [
    "\"Hello\""
   ]
  },
  {
   "cell_type": "code",
   "execution_count": 2,
   "id": "aeb074e4-b140-4e57-b401-ee2fe50df255",
   "metadata": {},
   "outputs": [
    {
     "name": "stdout",
     "output_type": "stream",
     "text": [
      "Requirement already satisfied: numpy in /Library/Frameworks/Python.framework/Versions/3.11/lib/python3.11/site-packages (1.24.3)\n",
      "Note: you may need to restart the kernel to use updated packages.\n"
     ]
    }
   ],
   "source": [
    "pip install numpy"
   ]
  },
  {
   "cell_type": "code",
   "execution_count": 3,
   "id": "b4ecc4d6-83d9-4f3d-898a-eeef12c6ea01",
   "metadata": {},
   "outputs": [],
   "source": [
    "import numpy as np"
   ]
  },
  {
   "cell_type": "code",
   "execution_count": 5,
   "id": "c49cb55b-781d-4eb2-9a13-a03f630123d1",
   "metadata": {},
   "outputs": [
    {
     "data": {
      "text/plain": [
       "array([1, 3, 5, 7, 9])"
      ]
     },
     "execution_count": 5,
     "metadata": {},
     "output_type": "execute_result"
    }
   ],
   "source": [
    "np.arange(1, 10, 2)"
   ]
  },
  {
   "cell_type": "code",
   "execution_count": 7,
   "id": "50d156bb-4093-4675-9201-f25e70b4d6b8",
   "metadata": {},
   "outputs": [],
   "source": [
    "x = [\"str\", 3, 3.5]"
   ]
  },
  {
   "cell_type": "code",
   "execution_count": 8,
   "id": "950dbc09-696d-41b0-883b-f8204374508a",
   "metadata": {},
   "outputs": [
    {
     "data": {
      "text/plain": [
       "['str', 3, 3.5]"
      ]
     },
     "execution_count": 8,
     "metadata": {},
     "output_type": "execute_result"
    }
   ],
   "source": [
    "x"
   ]
  },
  {
   "cell_type": "code",
   "execution_count": 9,
   "id": "6de91f0b-4bc1-40e9-998b-2c0583cfa126",
   "metadata": {},
   "outputs": [],
   "source": [
    "x = 3"
   ]
  },
  {
   "cell_type": "code",
   "execution_count": 10,
   "id": "23063fee-62ff-48fa-8a4f-c14c4b1eb5c2",
   "metadata": {},
   "outputs": [
    {
     "data": {
      "text/plain": [
       "3"
      ]
     },
     "execution_count": 10,
     "metadata": {},
     "output_type": "execute_result"
    }
   ],
   "source": [
    "x "
   ]
  }
 ],
 "metadata": {
  "kernelspec": {
   "display_name": "Python 3 (ipykernel)",
   "language": "python",
   "name": "python3"
  },
  "language_info": {
   "codemirror_mode": {
    "name": "ipython",
    "version": 3
   },
   "file_extension": ".py",
   "mimetype": "text/x-python",
   "name": "python",
   "nbconvert_exporter": "python",
   "pygments_lexer": "ipython3",
   "version": "3.11.3"
  }
 },
 "nbformat": 4,
 "nbformat_minor": 5
}
